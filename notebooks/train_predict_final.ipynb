{
 "cells": [
  {
   "cell_type": "code",
   "execution_count": 1,
   "metadata": {},
   "outputs": [
    {
     "name": "stderr",
     "output_type": "stream",
     "text": [
      "Using TensorFlow backend.\n"
     ]
    }
   ],
   "source": [
    "import sys\n",
    "sys.path.append(\"..\")\n",
    "\n",
    "from src.data.make_dataset import *\n",
    "from src.features.build_features import *\n",
    "from src.models.train_model import *\n",
    "from src.models.predict_model import *\n",
    "from src.visualization.visualize import *\n",
    "\n",
    "import pandas as pd\n",
    "import numpy as np\n",
    "\n",
    "from sklearn.model_selection import train_test_split\n",
    "from sklearn.metrics import accuracy_score,confusion_matrix,f1_score\n",
    "\n",
    "import pickle\n",
    "\n",
    "from kafka import KafkaConsumer\n",
    "\n",
    "import seaborn as sns\n",
    "import matplotlib.pyplot as plt"
   ]
  },
  {
   "cell_type": "markdown",
   "metadata": {},
   "source": [
    "# Data loading and Visualization"
   ]
  },
  {
   "cell_type": "code",
   "execution_count": 2,
   "metadata": {},
   "outputs": [],
   "source": [
    "# make dataset\n",
    "path=\"../src/\"\n",
    "model_path=\"../src/models/Saved_models/\"\n",
    "output_path=\"../src/models/csv_predictions/\"\n",
    "\n",
    "df = pd.read_csv(path+\"data/training_dataset.csv\")"
   ]
  },
  {
   "cell_type": "code",
   "execution_count": 3,
   "metadata": {},
   "outputs": [
    {
     "data": {
      "text/html": [
       "<div>\n",
       "<style scoped>\n",
       "    .dataframe tbody tr th:only-of-type {\n",
       "        vertical-align: middle;\n",
       "    }\n",
       "\n",
       "    .dataframe tbody tr th {\n",
       "        vertical-align: top;\n",
       "    }\n",
       "\n",
       "    .dataframe thead th {\n",
       "        text-align: right;\n",
       "    }\n",
       "</style>\n",
       "<table border=\"1\" class=\"dataframe\">\n",
       "  <thead>\n",
       "    <tr style=\"text-align: right;\">\n",
       "      <th></th>\n",
       "      <th>timestamp</th>\n",
       "      <th>FQDN_count</th>\n",
       "      <th>subdomain_length</th>\n",
       "      <th>upper</th>\n",
       "      <th>lower</th>\n",
       "      <th>numeric</th>\n",
       "      <th>entropy</th>\n",
       "      <th>special</th>\n",
       "      <th>labels</th>\n",
       "      <th>labels_max</th>\n",
       "      <th>labels_average</th>\n",
       "      <th>longest_word</th>\n",
       "      <th>sld</th>\n",
       "      <th>len</th>\n",
       "      <th>subdomain</th>\n",
       "      <th>Label</th>\n",
       "    </tr>\n",
       "  </thead>\n",
       "  <tbody>\n",
       "    <tr>\n",
       "      <th>0</th>\n",
       "      <td>58:50.7</td>\n",
       "      <td>24</td>\n",
       "      <td>7</td>\n",
       "      <td>0</td>\n",
       "      <td>10</td>\n",
       "      <td>8</td>\n",
       "      <td>2.054029</td>\n",
       "      <td>6</td>\n",
       "      <td>6</td>\n",
       "      <td>7</td>\n",
       "      <td>3.166667</td>\n",
       "      <td>4</td>\n",
       "      <td>224</td>\n",
       "      <td>11</td>\n",
       "      <td>1</td>\n",
       "      <td>1</td>\n",
       "    </tr>\n",
       "    <tr>\n",
       "      <th>1</th>\n",
       "      <td>58:50.3</td>\n",
       "      <td>24</td>\n",
       "      <td>7</td>\n",
       "      <td>0</td>\n",
       "      <td>10</td>\n",
       "      <td>8</td>\n",
       "      <td>2.054029</td>\n",
       "      <td>6</td>\n",
       "      <td>6</td>\n",
       "      <td>7</td>\n",
       "      <td>3.166667</td>\n",
       "      <td>4</td>\n",
       "      <td>224</td>\n",
       "      <td>11</td>\n",
       "      <td>1</td>\n",
       "      <td>1</td>\n",
       "    </tr>\n",
       "    <tr>\n",
       "      <th>2</th>\n",
       "      <td>58:49.9</td>\n",
       "      <td>26</td>\n",
       "      <td>9</td>\n",
       "      <td>0</td>\n",
       "      <td>10</td>\n",
       "      <td>10</td>\n",
       "      <td>2.742338</td>\n",
       "      <td>6</td>\n",
       "      <td>6</td>\n",
       "      <td>7</td>\n",
       "      <td>3.500000</td>\n",
       "      <td>2</td>\n",
       "      <td>192</td>\n",
       "      <td>13</td>\n",
       "      <td>1</td>\n",
       "      <td>1</td>\n",
       "    </tr>\n",
       "    <tr>\n",
       "      <th>3</th>\n",
       "      <td>58:49.5</td>\n",
       "      <td>26</td>\n",
       "      <td>9</td>\n",
       "      <td>0</td>\n",
       "      <td>10</td>\n",
       "      <td>10</td>\n",
       "      <td>2.742338</td>\n",
       "      <td>6</td>\n",
       "      <td>6</td>\n",
       "      <td>7</td>\n",
       "      <td>3.500000</td>\n",
       "      <td>2</td>\n",
       "      <td>192</td>\n",
       "      <td>13</td>\n",
       "      <td>1</td>\n",
       "      <td>1</td>\n",
       "    </tr>\n",
       "    <tr>\n",
       "      <th>4</th>\n",
       "      <td>58:49.1</td>\n",
       "      <td>27</td>\n",
       "      <td>10</td>\n",
       "      <td>0</td>\n",
       "      <td>10</td>\n",
       "      <td>11</td>\n",
       "      <td>2.767195</td>\n",
       "      <td>6</td>\n",
       "      <td>6</td>\n",
       "      <td>7</td>\n",
       "      <td>3.666667</td>\n",
       "      <td>2</td>\n",
       "      <td>192</td>\n",
       "      <td>14</td>\n",
       "      <td>1</td>\n",
       "      <td>1</td>\n",
       "    </tr>\n",
       "  </tbody>\n",
       "</table>\n",
       "</div>"
      ],
      "text/plain": [
       "  timestamp  FQDN_count  subdomain_length  upper  lower  numeric   entropy  \\\n",
       "0   58:50.7          24                 7      0     10        8  2.054029   \n",
       "1   58:50.3          24                 7      0     10        8  2.054029   \n",
       "2   58:49.9          26                 9      0     10       10  2.742338   \n",
       "3   58:49.5          26                 9      0     10       10  2.742338   \n",
       "4   58:49.1          27                10      0     10       11  2.767195   \n",
       "\n",
       "   special  labels  labels_max  labels_average longest_word  sld  len  \\\n",
       "0        6       6           7        3.166667            4  224   11   \n",
       "1        6       6           7        3.166667            4  224   11   \n",
       "2        6       6           7        3.500000            2  192   13   \n",
       "3        6       6           7        3.500000            2  192   13   \n",
       "4        6       6           7        3.666667            2  192   14   \n",
       "\n",
       "   subdomain  Label  \n",
       "0          1      1  \n",
       "1          1      1  \n",
       "2          1      1  \n",
       "3          1      1  \n",
       "4          1      1  "
      ]
     },
     "execution_count": 3,
     "metadata": {},
     "output_type": "execute_result"
    }
   ],
   "source": [
    "df.head()"
   ]
  },
  {
   "cell_type": "code",
   "execution_count": 4,
   "metadata": {},
   "outputs": [
    {
     "name": "stdout",
     "output_type": "stream",
     "text": [
      "<class 'pandas.core.frame.DataFrame'>\n",
      "RangeIndex: 536138 entries, 0 to 536137\n",
      "Data columns (total 16 columns):\n",
      " #   Column            Non-Null Count   Dtype  \n",
      "---  ------            --------------   -----  \n",
      " 0   timestamp         536138 non-null  object \n",
      " 1   FQDN_count        536138 non-null  int64  \n",
      " 2   subdomain_length  536138 non-null  int64  \n",
      " 3   upper             536138 non-null  int64  \n",
      " 4   lower             536138 non-null  int64  \n",
      " 5   numeric           536138 non-null  int64  \n",
      " 6   entropy           536138 non-null  float64\n",
      " 7   special           536138 non-null  int64  \n",
      " 8   labels            536138 non-null  int64  \n",
      " 9   labels_max        536138 non-null  int64  \n",
      " 10  labels_average    536138 non-null  float64\n",
      " 11  longest_word      536124 non-null  object \n",
      " 12  sld               536138 non-null  object \n",
      " 13  len               536138 non-null  int64  \n",
      " 14  subdomain         536138 non-null  int64  \n",
      " 15  Label             536138 non-null  int64  \n",
      "dtypes: float64(2), int64(11), object(3)\n",
      "memory usage: 65.4+ MB\n"
     ]
    }
   ],
   "source": [
    "df.info()"
   ]
  },
  {
   "cell_type": "code",
   "execution_count": 5,
   "metadata": {},
   "outputs": [
    {
     "data": {
      "text/html": [
       "<div>\n",
       "<style scoped>\n",
       "    .dataframe tbody tr th:only-of-type {\n",
       "        vertical-align: middle;\n",
       "    }\n",
       "\n",
       "    .dataframe tbody tr th {\n",
       "        vertical-align: top;\n",
       "    }\n",
       "\n",
       "    .dataframe thead th {\n",
       "        text-align: right;\n",
       "    }\n",
       "</style>\n",
       "<table border=\"1\" class=\"dataframe\">\n",
       "  <thead>\n",
       "    <tr style=\"text-align: right;\">\n",
       "      <th></th>\n",
       "      <th>FQDN_count</th>\n",
       "      <th>subdomain_length</th>\n",
       "      <th>upper</th>\n",
       "      <th>lower</th>\n",
       "      <th>numeric</th>\n",
       "      <th>entropy</th>\n",
       "      <th>special</th>\n",
       "      <th>labels</th>\n",
       "      <th>labels_max</th>\n",
       "      <th>labels_average</th>\n",
       "      <th>len</th>\n",
       "      <th>subdomain</th>\n",
       "      <th>Label</th>\n",
       "    </tr>\n",
       "  </thead>\n",
       "  <tbody>\n",
       "    <tr>\n",
       "      <th>count</th>\n",
       "      <td>536138.000000</td>\n",
       "      <td>536138.000000</td>\n",
       "      <td>536138.000000</td>\n",
       "      <td>536138.000000</td>\n",
       "      <td>536138.000000</td>\n",
       "      <td>536138.000000</td>\n",
       "      <td>536138.000000</td>\n",
       "      <td>536138.000000</td>\n",
       "      <td>536138.000000</td>\n",
       "      <td>536138.000000</td>\n",
       "      <td>536138.000000</td>\n",
       "      <td>536138.000000</td>\n",
       "      <td>536138.000000</td>\n",
       "    </tr>\n",
       "    <tr>\n",
       "      <th>mean</th>\n",
       "      <td>22.345262</td>\n",
       "      <td>6.100633</td>\n",
       "      <td>0.849604</td>\n",
       "      <td>10.412959</td>\n",
       "      <td>6.539344</td>\n",
       "      <td>2.485026</td>\n",
       "      <td>4.543355</td>\n",
       "      <td>4.806201</td>\n",
       "      <td>8.240375</td>\n",
       "      <td>4.794970</td>\n",
       "      <td>12.587228</td>\n",
       "      <td>0.757902</td>\n",
       "      <td>0.549025</td>\n",
       "    </tr>\n",
       "    <tr>\n",
       "      <th>std</th>\n",
       "      <td>5.968281</td>\n",
       "      <td>3.883699</td>\n",
       "      <td>4.951571</td>\n",
       "      <td>3.226364</td>\n",
       "      <td>4.482443</td>\n",
       "      <td>0.407780</td>\n",
       "      <td>2.193396</td>\n",
       "      <td>1.796751</td>\n",
       "      <td>4.408849</td>\n",
       "      <td>4.579084</td>\n",
       "      <td>4.173231</td>\n",
       "      <td>0.428354</td>\n",
       "      <td>0.497591</td>\n",
       "    </tr>\n",
       "    <tr>\n",
       "      <th>min</th>\n",
       "      <td>2.000000</td>\n",
       "      <td>0.000000</td>\n",
       "      <td>0.000000</td>\n",
       "      <td>0.000000</td>\n",
       "      <td>0.000000</td>\n",
       "      <td>0.219195</td>\n",
       "      <td>0.000000</td>\n",
       "      <td>1.000000</td>\n",
       "      <td>2.000000</td>\n",
       "      <td>1.500000</td>\n",
       "      <td>2.000000</td>\n",
       "      <td>0.000000</td>\n",
       "      <td>0.000000</td>\n",
       "    </tr>\n",
       "    <tr>\n",
       "      <th>25%</th>\n",
       "      <td>19.000000</td>\n",
       "      <td>3.000000</td>\n",
       "      <td>0.000000</td>\n",
       "      <td>10.000000</td>\n",
       "      <td>0.000000</td>\n",
       "      <td>2.054029</td>\n",
       "      <td>2.000000</td>\n",
       "      <td>3.000000</td>\n",
       "      <td>7.000000</td>\n",
       "      <td>3.166667</td>\n",
       "      <td>11.000000</td>\n",
       "      <td>1.000000</td>\n",
       "      <td>0.000000</td>\n",
       "    </tr>\n",
       "    <tr>\n",
       "      <th>50%</th>\n",
       "      <td>24.000000</td>\n",
       "      <td>7.000000</td>\n",
       "      <td>0.000000</td>\n",
       "      <td>10.000000</td>\n",
       "      <td>8.000000</td>\n",
       "      <td>2.570417</td>\n",
       "      <td>6.000000</td>\n",
       "      <td>6.000000</td>\n",
       "      <td>7.000000</td>\n",
       "      <td>3.666667</td>\n",
       "      <td>12.000000</td>\n",
       "      <td>1.000000</td>\n",
       "      <td>1.000000</td>\n",
       "    </tr>\n",
       "    <tr>\n",
       "      <th>75%</th>\n",
       "      <td>27.000000</td>\n",
       "      <td>10.000000</td>\n",
       "      <td>0.000000</td>\n",
       "      <td>10.000000</td>\n",
       "      <td>11.000000</td>\n",
       "      <td>2.767195</td>\n",
       "      <td>6.000000</td>\n",
       "      <td>6.000000</td>\n",
       "      <td>7.000000</td>\n",
       "      <td>4.000000</td>\n",
       "      <td>14.000000</td>\n",
       "      <td>1.000000</td>\n",
       "      <td>1.000000</td>\n",
       "    </tr>\n",
       "    <tr>\n",
       "      <th>max</th>\n",
       "      <td>36.000000</td>\n",
       "      <td>29.000000</td>\n",
       "      <td>32.000000</td>\n",
       "      <td>34.000000</td>\n",
       "      <td>12.000000</td>\n",
       "      <td>4.368167</td>\n",
       "      <td>8.000000</td>\n",
       "      <td>7.000000</td>\n",
       "      <td>32.000000</td>\n",
       "      <td>32.000000</td>\n",
       "      <td>35.000000</td>\n",
       "      <td>1.000000</td>\n",
       "      <td>1.000000</td>\n",
       "    </tr>\n",
       "  </tbody>\n",
       "</table>\n",
       "</div>"
      ],
      "text/plain": [
       "          FQDN_count  subdomain_length          upper          lower  \\\n",
       "count  536138.000000     536138.000000  536138.000000  536138.000000   \n",
       "mean       22.345262          6.100633       0.849604      10.412959   \n",
       "std         5.968281          3.883699       4.951571       3.226364   \n",
       "min         2.000000          0.000000       0.000000       0.000000   \n",
       "25%        19.000000          3.000000       0.000000      10.000000   \n",
       "50%        24.000000          7.000000       0.000000      10.000000   \n",
       "75%        27.000000         10.000000       0.000000      10.000000   \n",
       "max        36.000000         29.000000      32.000000      34.000000   \n",
       "\n",
       "             numeric        entropy        special         labels  \\\n",
       "count  536138.000000  536138.000000  536138.000000  536138.000000   \n",
       "mean        6.539344       2.485026       4.543355       4.806201   \n",
       "std         4.482443       0.407780       2.193396       1.796751   \n",
       "min         0.000000       0.219195       0.000000       1.000000   \n",
       "25%         0.000000       2.054029       2.000000       3.000000   \n",
       "50%         8.000000       2.570417       6.000000       6.000000   \n",
       "75%        11.000000       2.767195       6.000000       6.000000   \n",
       "max        12.000000       4.368167       8.000000       7.000000   \n",
       "\n",
       "          labels_max  labels_average            len      subdomain  \\\n",
       "count  536138.000000   536138.000000  536138.000000  536138.000000   \n",
       "mean        8.240375        4.794970      12.587228       0.757902   \n",
       "std         4.408849        4.579084       4.173231       0.428354   \n",
       "min         2.000000        1.500000       2.000000       0.000000   \n",
       "25%         7.000000        3.166667      11.000000       1.000000   \n",
       "50%         7.000000        3.666667      12.000000       1.000000   \n",
       "75%         7.000000        4.000000      14.000000       1.000000   \n",
       "max        32.000000       32.000000      35.000000       1.000000   \n",
       "\n",
       "               Label  \n",
       "count  536138.000000  \n",
       "mean        0.549025  \n",
       "std         0.497591  \n",
       "min         0.000000  \n",
       "25%         0.000000  \n",
       "50%         1.000000  \n",
       "75%         1.000000  \n",
       "max         1.000000  "
      ]
     },
     "execution_count": 5,
     "metadata": {},
     "output_type": "execute_result"
    }
   ],
   "source": [
    "df.describe()"
   ]
  },
  {
   "cell_type": "markdown",
   "metadata": {},
   "source": [
    "## visualizing"
   ]
  },
  {
   "cell_type": "code",
   "execution_count": 6,
   "metadata": {},
   "outputs": [
    {
     "data": {
      "image/png": "[encoded data removed]",
      "text/plain": [
       "<Figure size 792x648 with 2 Axes>"
      ]
     },
     "metadata": {
      "needs_background": "light"
     },
     "output_type": "display_data"
    }
   ],
   "source": [
    "corr_matrix(df)"
   ]
  },
  {
   "cell_type": "markdown",
   "metadata": {},
   "source": [
    "## Data split"
   ]
  },
  {
   "cell_type": "code",
   "execution_count": 7,
   "metadata": {},
   "outputs": [],
   "source": [
    "X_train,X_test,y_train,y_test = prepare_data(df)"
   ]
  },
  {
   "cell_type": "markdown",
   "metadata": {},
   "source": [
    "# Modeling"
   ]
  },
  {
   "cell_type": "markdown",
   "metadata": {},
   "source": [
    "## Random Forest"
   ]
  },
  {
   "cell_type": "code",
   "execution_count": 8,
   "metadata": {},
   "outputs": [
    {
     "name": "stdout",
     "output_type": "stream",
     "text": [
      "Accuracy Score over test set : 0.8212686984742791\n",
      "F1 Score over test set : 0.8598609211959901\n",
      "Confusion Matrix :\n",
      " [[29267 19090]\n",
      " [   75 58796]]\n"
     ]
    }
   ],
   "source": [
    "clf = Model_trainer(\"RF\")\n",
    "clf.fit(X_train,y_train)\n",
    "\n",
    "#predictions\n",
    "rf_acc,rf_f1 =Model_predict(clf).predict(X_test,y_test) # confusion matrix -> y-axis True labels, X-axis predicted labels"
   ]
  },
  {
   "cell_type": "code",
   "execution_count": 11,
   "metadata": {},
   "outputs": [],
   "source": [
    "#save model\n",
    "with open(r\"\"+model_path+\"random_forest_acc_82.sav\",\"wb\") as file:\n",
    "    pickle.dump(clf, file)"
   ]
  },
  {
   "cell_type": "code",
   "execution_count": 12,
   "metadata": {},
   "outputs": [],
   "source": [
    "# laod model\n",
    "with open(r\"\"+model_path+\"random_forest_acc_82.sav\",\"rb\") as file:\n",
    "    model = pickle.load(file)"
   ]
  },
  {
   "cell_type": "code",
   "execution_count": null,
   "metadata": {},
   "outputs": [],
   "source": [
    "# consume kafka\n",
    "consumer = KafkaConsumer(\"ml-raw-dns\",bootstrap_servers=\"localhost:9092\",auto_offset_reset=\"earliest\")"
   ]
  },
  {
   "cell_type": "code",
   "execution_count": null,
   "metadata": {},
   "outputs": [],
   "source": [
    "# feature extraction and saveing to dataframe\n",
    "df_generated =pd.DataFrame(columns=['URL','FQDN_count','subdomain_length','upper','lower','numeric','entropy','special','labels','labels_max','labels_average','longest_word','sld','len','subdomain','Confidence',\"Predicted_Label\"])\n",
    "\n",
    "for message in consumer:\n",
    "\n",
    "    url=message.value.decode(\"utf-8\")\n",
    "\n",
    "    # extracting features\n",
    "    record = generate_attribute(url)\n",
    "\n",
    "\n",
    "    tmp_record=record.to_dict('records')\n",
    "    tmp_record[0][\"URL\"]=url\n",
    "\n",
    "    # predicting record label\n",
    "    tmp_record[0][\"Predicted_Label\"]=model.predict(reformat_record(record))[0]\n",
    "    # predicted record confidence\n",
    "    tmp_record[0][\"Confidence\"]=np.max(model.predict_proba(reformat_record(record)))\n",
    "\n",
    "    df_generated=df_generated.append(tmp_record[0],ignore_index=True)\n",
    "\n",
    "    # when limit reaches break to wait end in infinity loop\n",
    "    if len(df_generated)>=100000:\n",
    "        break\n",
    "df_generated.to_csv(r\"\"+output_path+\"predcitions.csv\",index=False)"
   ]
  },
  {
   "cell_type": "markdown",
   "metadata": {},
   "source": [
    "## Gradient Boosting"
   ]
  },
  {
   "cell_type": "code",
   "execution_count": 9,
   "metadata": {},
   "outputs": [
    {
     "name": "stdout",
     "output_type": "stream",
     "text": [
      "Accuracy Score over test set : 0.8215484761442907\n",
      "F1 Score over test set : 0.8601375600271904\n",
      "Confusion Matrix :\n",
      " [[29254 19103]\n",
      " [   32 58839]]\n"
     ]
    }
   ],
   "source": [
    "clf = Model_trainer(\"GB\")\n",
    "clf.fit(X_train,y_train)\n",
    "\n",
    "#predictions\n",
    "gb_acc,gb_f1 =Model_predict(clf).predict(X_test,y_test) # confusion matrix -> y-axis True labels, X-axis predicted labels"
   ]
  },
  {
   "cell_type": "markdown",
   "metadata": {},
   "source": [
    "## KNN"
   ]
  },
  {
   "cell_type": "code",
   "execution_count": 10,
   "metadata": {},
   "outputs": [
    {
     "name": "stdout",
     "output_type": "stream",
     "text": [
      "Accuracy Score over test set : 0.8179020405118066\n",
      "F1 Score over test set : 0.8564201361824787\n",
      "Confusion Matrix :\n",
      " [[29468 18889]\n",
      " [  637 58234]]\n"
     ]
    }
   ],
   "source": [
    "clf = Model_trainer(\"KNN\")\n",
    "clf.fit(X_train,y_train)\n",
    "\n",
    "#predictions\n",
    "knn_acc,knn_f1 =Model_predict(clf).predict(X_test,y_test) # confusion matrix -> y-axis True labels, X-axis predicted labels"
   ]
  },
  {
   "cell_type": "markdown",
   "metadata": {},
   "source": [
    "## SVM"
   ]
  },
  {
   "cell_type": "code",
   "execution_count": 8,
   "metadata": {},
   "outputs": [],
   "source": [
    "# Too much time to run with same output as others \n",
    "\n",
    "clf = Model_trainer(\"SVC\")\n",
    "clf.fit(X_train,y_train)\n",
    "\n",
    "#predictions\n",
    "svc_acc,svc_f1 =Model_predict(clf).predict(X_test,y_test) # confusion matrix -> y-axis True labels, X-axis predicted labels"
   ]
  },
  {
   "cell_type": "markdown",
   "metadata": {},
   "source": [
    "## Keras DNN"
   ]
  },
  {
   "cell_type": "code",
   "execution_count": 11,
   "metadata": {},
   "outputs": [
    {
     "name": "stdout",
     "output_type": "stream",
     "text": [
      "Train on 386019 samples, validate on 42891 samples\n",
      "Epoch 1/1\n",
      "386019/386019 [==============================] - 3s 9us/step - loss: 0.4219 - accuracy: 0.8180 - val_loss: 0.4128 - val_accuracy: 0.8206\n",
      "Accuracy Score over test set : 0.8201682396389003\n",
      "F1 Score over test set : 0.8588391177353352\n",
      "Confusion Matrix :\n",
      " [[29285 19072]\n",
      " [  211 58660]]\n"
     ]
    }
   ],
   "source": [
    "clf = Model_trainer(\"DNN\")\n",
    "clf.fit(X_train,y_train)\n",
    "\n",
    "#predictions\n",
    "dnn_acc,dnn_f1 = Model_predict(clf).predict(X_test,y_test) # confusion matrix -> y-axis True labels, X-axis predicted labels"
   ]
  },
  {
   "cell_type": "markdown",
   "metadata": {},
   "source": [
    "# Models Comparison "
   ]
  },
  {
   "cell_type": "code",
   "execution_count": 37,
   "metadata": {},
   "outputs": [
    {
     "name": "stdout",
     "output_type": "stream",
     "text": [
      "[0.8212686984742791, 0.8179020405118066, 0.8215484761442907, 0.8201682396389003]\n"
     ]
    },
    {
     "data": {
      "text/plain": [
       "<matplotlib.axes._subplots.AxesSubplot at 0x1b37241e4a8>"
      ]
     },
     "execution_count": 37,
     "metadata": {},
     "output_type": "execute_result"
    },
    {
     "data": {
      "image/png": "[encoded data removed]",
      "text/plain": [
       "<Figure size 432x288 with 1 Axes>"
      ]
     },
     "metadata": {
      "needs_background": "light"
     },
     "output_type": "display_data"
    }
   ],
   "source": [
    "# svm discarded due to long time to run\n",
    "models_accuacy_comaprison={\"RF\":rf_acc,\n",
    "                           \"KNN\":knn_acc,\n",
    "                           \"GB\":gb_acc,\n",
    "                           \"Deep neural network\":dnn_acc}\n",
    "plt.ylim(0.8,0.9)\n",
    "plt.grid()\n",
    "plt.title(\"Accuracy comparison for the models\")\n",
    "\n",
    "print(list(models_accuacy_comaprison.values()))\n",
    "sns.barplot(list(models_accuacy_comaprison.keys()),list(models_accuacy_comaprison.values()))"
   ]
  },
  {
   "cell_type": "code",
   "execution_count": 36,
   "metadata": {},
   "outputs": [
    {
     "name": "stdout",
     "output_type": "stream",
     "text": [
      "[0.8598609211959901, 0.8564201361824787, 0.8601375600271904, 0.8588391177353352]\n"
     ]
    },
    {
     "data": {
      "text/plain": [
       "<matplotlib.axes._subplots.AxesSubplot at 0x1b17f753c50>"
      ]
     },
     "execution_count": 36,
     "metadata": {},
     "output_type": "execute_result"
    },
    {
     "data": {
      "image/png": "[encoded data removed]",
      "text/plain": [
       "<Figure size 432x288 with 1 Axes>"
      ]
     },
     "metadata": {
      "needs_background": "light"
     },
     "output_type": "display_data"
    }
   ],
   "source": [
    "# svm discarded due to long time to run\n",
    "models_accuacy_comaprison={\"RF\":rf_f1,\n",
    "                           \"KNN\":knn_f1,\n",
    "                           \"GB\":gb_f1,\n",
    "                           \"Deep neural network\":dnn_f1}\n",
    "plt.ylim(0.8,0.9)\n",
    "plt.grid()\n",
    "plt.title(\"F1 comparison for the models\")\n",
    "\n",
    "print(list(models_accuacy_comaprison.values()))\n",
    "sns.barplot(list(models_accuacy_comaprison.keys()),list(models_accuacy_comaprison.values()))"
   ]
  },
  {
   "cell_type": "code",
   "execution_count": null,
   "metadata": {},
   "outputs": [],
   "source": []
  }
 ],
 "metadata": {
  "interpreter": {
   "hash": "4c65b98e956c6ae24f8ae0bc56d1e465ff92310dbdec0a4bd6b48ffdf1441c98"
  },
  "kernelspec": {
   "display_name": "Python 3.6.6 64-bit",
   "language": "python",
   "name": "python3"
  },
  "language_info": {
   "codemirror_mode": {
    "name": "ipython",
    "version": 3
   },
   "file_extension": ".py",
   "mimetype": "text/x-python",
   "name": "python",
   "nbconvert_exporter": "python",
   "pygments_lexer": "ipython3",
   "version": "3.6.6"
  },
  "orig_nbformat": 4
 },
 "nbformat": 4,
 "nbformat_minor": 2
}
